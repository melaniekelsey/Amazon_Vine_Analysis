{
 "cells": [
  {
   "cell_type": "code",
   "execution_count": 3,
   "id": "f768be40",
   "metadata": {},
   "outputs": [],
   "source": [
    "import pandas as pd"
   ]
  },
  {
   "cell_type": "code",
   "execution_count": 4,
   "id": "cf8186d6",
   "metadata": {},
   "outputs": [],
   "source": [
    "vine_data_to_load = \"vine_table.csv\""
   ]
  },
  {
   "cell_type": "code",
   "execution_count": 5,
   "id": "bc201d34",
   "metadata": {},
   "outputs": [],
   "source": [
    "vine_data_df = pd.read_csv(vine_data_to_load, header=None, names=[\"review_id\", \"star_rating\", \"helpful_votes\", \"total_votes\",\"vine\", \"verified_purchase\"])"
   ]
  },
  {
   "cell_type": "code",
   "execution_count": 12,
   "id": "1c2c7f69",
   "metadata": {},
   "outputs": [],
   "source": [
    "vine_data_df[\"Percent_Helpful_Votes\"] = vine_data_df[\"helpful_votes\"]// vine_data_df[\"total_votes\"]"
   ]
  },
  {
   "cell_type": "code",
   "execution_count": 13,
   "id": "fa637b08",
   "metadata": {},
   "outputs": [
    {
     "data": {
      "text/html": [
       "<div>\n",
       "<style scoped>\n",
       "    .dataframe tbody tr th:only-of-type {\n",
       "        vertical-align: middle;\n",
       "    }\n",
       "\n",
       "    .dataframe tbody tr th {\n",
       "        vertical-align: top;\n",
       "    }\n",
       "\n",
       "    .dataframe thead th {\n",
       "        text-align: right;\n",
       "    }\n",
       "</style>\n",
       "<table border=\"1\" class=\"dataframe\">\n",
       "  <thead>\n",
       "    <tr style=\"text-align: right;\">\n",
       "      <th></th>\n",
       "      <th>review_id</th>\n",
       "      <th>star_rating</th>\n",
       "      <th>helpful_votes</th>\n",
       "      <th>total_votes</th>\n",
       "      <th>vine</th>\n",
       "      <th>verified_purchase</th>\n",
       "      <th>Percent_Helpful_Votes</th>\n",
       "    </tr>\n",
       "  </thead>\n",
       "  <tbody>\n",
       "    <tr>\n",
       "      <th>0</th>\n",
       "      <td>REAKC26P07MDN</td>\n",
       "      <td>5.0</td>\n",
       "      <td>0.0</td>\n",
       "      <td>0.0</td>\n",
       "      <td>N</td>\n",
       "      <td>Y</td>\n",
       "      <td>NaN</td>\n",
       "    </tr>\n",
       "    <tr>\n",
       "      <th>1</th>\n",
       "      <td>R3NU7OMZ4HQIEG</td>\n",
       "      <td>2.0</td>\n",
       "      <td>0.0</td>\n",
       "      <td>1.0</td>\n",
       "      <td>N</td>\n",
       "      <td>Y</td>\n",
       "      <td>0.0</td>\n",
       "    </tr>\n",
       "    <tr>\n",
       "      <th>2</th>\n",
       "      <td>R14QJW3XF8QO1P</td>\n",
       "      <td>5.0</td>\n",
       "      <td>0.0</td>\n",
       "      <td>0.0</td>\n",
       "      <td>N</td>\n",
       "      <td>Y</td>\n",
       "      <td>NaN</td>\n",
       "    </tr>\n",
       "    <tr>\n",
       "      <th>3</th>\n",
       "      <td>R2HB7AX0394ZGY</td>\n",
       "      <td>5.0</td>\n",
       "      <td>0.0</td>\n",
       "      <td>0.0</td>\n",
       "      <td>N</td>\n",
       "      <td>Y</td>\n",
       "      <td>NaN</td>\n",
       "    </tr>\n",
       "    <tr>\n",
       "      <th>4</th>\n",
       "      <td>RGKMPDQGSAHR3</td>\n",
       "      <td>5.0</td>\n",
       "      <td>0.0</td>\n",
       "      <td>0.0</td>\n",
       "      <td>N</td>\n",
       "      <td>Y</td>\n",
       "      <td>NaN</td>\n",
       "    </tr>\n",
       "    <tr>\n",
       "      <th>5</th>\n",
       "      <td>R1DJCVPQGCV66E</td>\n",
       "      <td>5.0</td>\n",
       "      <td>0.0</td>\n",
       "      <td>0.0</td>\n",
       "      <td>N</td>\n",
       "      <td>Y</td>\n",
       "      <td>NaN</td>\n",
       "    </tr>\n",
       "    <tr>\n",
       "      <th>6</th>\n",
       "      <td>R3V52EAWLPBFQG</td>\n",
       "      <td>3.0</td>\n",
       "      <td>0.0</td>\n",
       "      <td>0.0</td>\n",
       "      <td>N</td>\n",
       "      <td>Y</td>\n",
       "      <td>NaN</td>\n",
       "    </tr>\n",
       "    <tr>\n",
       "      <th>7</th>\n",
       "      <td>R3DKO8J1J28QBI</td>\n",
       "      <td>2.0</td>\n",
       "      <td>0.0</td>\n",
       "      <td>0.0</td>\n",
       "      <td>N</td>\n",
       "      <td>Y</td>\n",
       "      <td>NaN</td>\n",
       "    </tr>\n",
       "    <tr>\n",
       "      <th>8</th>\n",
       "      <td>R764DBXGRNECG</td>\n",
       "      <td>5.0</td>\n",
       "      <td>1.0</td>\n",
       "      <td>1.0</td>\n",
       "      <td>N</td>\n",
       "      <td>N</td>\n",
       "      <td>1.0</td>\n",
       "    </tr>\n",
       "    <tr>\n",
       "      <th>9</th>\n",
       "      <td>RW1853GAT0Z9F</td>\n",
       "      <td>5.0</td>\n",
       "      <td>0.0</td>\n",
       "      <td>0.0</td>\n",
       "      <td>N</td>\n",
       "      <td>Y</td>\n",
       "      <td>NaN</td>\n",
       "    </tr>\n",
       "  </tbody>\n",
       "</table>\n",
       "</div>"
      ],
      "text/plain": [
       "        review_id  star_rating  helpful_votes  total_votes vine  \\\n",
       "0   REAKC26P07MDN          5.0            0.0          0.0    N   \n",
       "1  R3NU7OMZ4HQIEG          2.0            0.0          1.0    N   \n",
       "2  R14QJW3XF8QO1P          5.0            0.0          0.0    N   \n",
       "3  R2HB7AX0394ZGY          5.0            0.0          0.0    N   \n",
       "4   RGKMPDQGSAHR3          5.0            0.0          0.0    N   \n",
       "5  R1DJCVPQGCV66E          5.0            0.0          0.0    N   \n",
       "6  R3V52EAWLPBFQG          3.0            0.0          0.0    N   \n",
       "7  R3DKO8J1J28QBI          2.0            0.0          0.0    N   \n",
       "8   R764DBXGRNECG          5.0            1.0          1.0    N   \n",
       "9   RW1853GAT0Z9F          5.0            0.0          0.0    N   \n",
       "\n",
       "  verified_purchase  Percent_Helpful_Votes  \n",
       "0                 Y                    NaN  \n",
       "1                 Y                    0.0  \n",
       "2                 Y                    NaN  \n",
       "3                 Y                    NaN  \n",
       "4                 Y                    NaN  \n",
       "5                 Y                    NaN  \n",
       "6                 Y                    NaN  \n",
       "7                 Y                    NaN  \n",
       "8                 N                    1.0  \n",
       "9                 Y                    NaN  "
      ]
     },
     "execution_count": 13,
     "metadata": {},
     "output_type": "execute_result"
    }
   ],
   "source": [
    "vine_data_df.head(10)"
   ]
  },
  {
   "cell_type": "code",
   "execution_count": 57,
   "id": "7e41ee57",
   "metadata": {},
   "outputs": [
    {
     "data": {
      "text/html": [
       "<div>\n",
       "<style scoped>\n",
       "    .dataframe tbody tr th:only-of-type {\n",
       "        vertical-align: middle;\n",
       "    }\n",
       "\n",
       "    .dataframe tbody tr th {\n",
       "        vertical-align: top;\n",
       "    }\n",
       "\n",
       "    .dataframe thead th {\n",
       "        text-align: right;\n",
       "    }\n",
       "</style>\n",
       "<table border=\"1\" class=\"dataframe\">\n",
       "  <thead>\n",
       "    <tr style=\"text-align: right;\">\n",
       "      <th></th>\n",
       "      <th>review_id</th>\n",
       "      <th>star_rating</th>\n",
       "      <th>helpful_votes</th>\n",
       "      <th>total_votes</th>\n",
       "      <th>vine</th>\n",
       "      <th>verified_purchase</th>\n",
       "      <th>Percent_Helpful_Votes</th>\n",
       "    </tr>\n",
       "  </thead>\n",
       "  <tbody>\n",
       "    <tr>\n",
       "      <th>128</th>\n",
       "      <td>R21KC552Y6HL8X</td>\n",
       "      <td>1.0</td>\n",
       "      <td>27.0</td>\n",
       "      <td>31.0</td>\n",
       "      <td>N</td>\n",
       "      <td>Y</td>\n",
       "      <td>0.0</td>\n",
       "    </tr>\n",
       "    <tr>\n",
       "      <th>161</th>\n",
       "      <td>RX9WC9FTIR1XR</td>\n",
       "      <td>5.0</td>\n",
       "      <td>25.0</td>\n",
       "      <td>25.0</td>\n",
       "      <td>N</td>\n",
       "      <td>Y</td>\n",
       "      <td>1.0</td>\n",
       "    </tr>\n",
       "    <tr>\n",
       "      <th>256</th>\n",
       "      <td>RGDCOU1KBHMNG</td>\n",
       "      <td>3.0</td>\n",
       "      <td>29.0</td>\n",
       "      <td>31.0</td>\n",
       "      <td>N</td>\n",
       "      <td>Y</td>\n",
       "      <td>0.0</td>\n",
       "    </tr>\n",
       "    <tr>\n",
       "      <th>267</th>\n",
       "      <td>RVTYWID2TPMMY</td>\n",
       "      <td>2.0</td>\n",
       "      <td>35.0</td>\n",
       "      <td>42.0</td>\n",
       "      <td>N</td>\n",
       "      <td>Y</td>\n",
       "      <td>0.0</td>\n",
       "    </tr>\n",
       "    <tr>\n",
       "      <th>719</th>\n",
       "      <td>R2CMPZ5VESGRLY</td>\n",
       "      <td>4.0</td>\n",
       "      <td>27.0</td>\n",
       "      <td>28.0</td>\n",
       "      <td>N</td>\n",
       "      <td>Y</td>\n",
       "      <td>0.0</td>\n",
       "    </tr>\n",
       "    <tr>\n",
       "      <th>1169</th>\n",
       "      <td>R3VQPJZ54B55BA</td>\n",
       "      <td>5.0</td>\n",
       "      <td>62.0</td>\n",
       "      <td>64.0</td>\n",
       "      <td>N</td>\n",
       "      <td>N</td>\n",
       "      <td>0.0</td>\n",
       "    </tr>\n",
       "    <tr>\n",
       "      <th>1238</th>\n",
       "      <td>R24QM6D7FEDZ5M</td>\n",
       "      <td>2.0</td>\n",
       "      <td>36.0</td>\n",
       "      <td>43.0</td>\n",
       "      <td>N</td>\n",
       "      <td>Y</td>\n",
       "      <td>0.0</td>\n",
       "    </tr>\n",
       "    <tr>\n",
       "      <th>1254</th>\n",
       "      <td>R3A1VQ3SQDXEJ3</td>\n",
       "      <td>5.0</td>\n",
       "      <td>20.0</td>\n",
       "      <td>20.0</td>\n",
       "      <td>N</td>\n",
       "      <td>Y</td>\n",
       "      <td>1.0</td>\n",
       "    </tr>\n",
       "    <tr>\n",
       "      <th>1311</th>\n",
       "      <td>R39GSNW76GYF</td>\n",
       "      <td>1.0</td>\n",
       "      <td>20.0</td>\n",
       "      <td>23.0</td>\n",
       "      <td>N</td>\n",
       "      <td>Y</td>\n",
       "      <td>0.0</td>\n",
       "    </tr>\n",
       "    <tr>\n",
       "      <th>1493</th>\n",
       "      <td>RPJLR6MFDPXXE</td>\n",
       "      <td>5.0</td>\n",
       "      <td>35.0</td>\n",
       "      <td>36.0</td>\n",
       "      <td>N</td>\n",
       "      <td>Y</td>\n",
       "      <td>0.0</td>\n",
       "    </tr>\n",
       "  </tbody>\n",
       "</table>\n",
       "</div>"
      ],
      "text/plain": [
       "           review_id  star_rating  helpful_votes  total_votes vine  \\\n",
       "128   R21KC552Y6HL8X          1.0           27.0         31.0    N   \n",
       "161    RX9WC9FTIR1XR          5.0           25.0         25.0    N   \n",
       "256    RGDCOU1KBHMNG          3.0           29.0         31.0    N   \n",
       "267    RVTYWID2TPMMY          2.0           35.0         42.0    N   \n",
       "719   R2CMPZ5VESGRLY          4.0           27.0         28.0    N   \n",
       "1169  R3VQPJZ54B55BA          5.0           62.0         64.0    N   \n",
       "1238  R24QM6D7FEDZ5M          2.0           36.0         43.0    N   \n",
       "1254  R3A1VQ3SQDXEJ3          5.0           20.0         20.0    N   \n",
       "1311    R39GSNW76GYF          1.0           20.0         23.0    N   \n",
       "1493   RPJLR6MFDPXXE          5.0           35.0         36.0    N   \n",
       "\n",
       "     verified_purchase  Percent_Helpful_Votes  \n",
       "128                  Y                    0.0  \n",
       "161                  Y                    1.0  \n",
       "256                  Y                    0.0  \n",
       "267                  Y                    0.0  \n",
       "719                  Y                    0.0  \n",
       "1169                 N                    0.0  \n",
       "1238                 Y                    0.0  \n",
       "1254                 Y                    1.0  \n",
       "1311                 Y                    0.0  \n",
       "1493                 Y                    0.0  "
      ]
     },
     "execution_count": 57,
     "metadata": {},
     "output_type": "execute_result"
    }
   ],
   "source": [
    "total_votes_over_20 = vine_data_df[(vine_data_df[\"helpful_votes\"] >= 20)]\n",
    "total_votes_over_20.head(10)"
   ]
  },
  {
   "cell_type": "code",
   "execution_count": 30,
   "id": "1e2154ff",
   "metadata": {},
   "outputs": [
    {
     "data": {
      "text/plain": [
       "33950"
      ]
     },
     "execution_count": 30,
     "metadata": {},
     "output_type": "execute_result"
    }
   ],
   "source": [
    "len(total_votes_over_20)"
   ]
  },
  {
   "cell_type": "code",
   "execution_count": 36,
   "id": "9911e690",
   "metadata": {},
   "outputs": [],
   "source": [
    "helpful_votes_df = total_votes_over_20[(total_votes_over_20[\"Percent_Helpful_Votes\"] >=0.50)]"
   ]
  },
  {
   "cell_type": "code",
   "execution_count": 58,
   "id": "53b1ecea",
   "metadata": {},
   "outputs": [
    {
     "data": {
      "text/html": [
       "<div>\n",
       "<style scoped>\n",
       "    .dataframe tbody tr th:only-of-type {\n",
       "        vertical-align: middle;\n",
       "    }\n",
       "\n",
       "    .dataframe tbody tr th {\n",
       "        vertical-align: top;\n",
       "    }\n",
       "\n",
       "    .dataframe thead th {\n",
       "        text-align: right;\n",
       "    }\n",
       "</style>\n",
       "<table border=\"1\" class=\"dataframe\">\n",
       "  <thead>\n",
       "    <tr style=\"text-align: right;\">\n",
       "      <th></th>\n",
       "      <th>review_id</th>\n",
       "      <th>star_rating</th>\n",
       "      <th>helpful_votes</th>\n",
       "      <th>total_votes</th>\n",
       "      <th>vine</th>\n",
       "      <th>verified_purchase</th>\n",
       "      <th>Percent_Helpful_Votes</th>\n",
       "    </tr>\n",
       "  </thead>\n",
       "  <tbody>\n",
       "    <tr>\n",
       "      <th>161</th>\n",
       "      <td>RX9WC9FTIR1XR</td>\n",
       "      <td>5.0</td>\n",
       "      <td>25.0</td>\n",
       "      <td>25.0</td>\n",
       "      <td>N</td>\n",
       "      <td>Y</td>\n",
       "      <td>1.0</td>\n",
       "    </tr>\n",
       "    <tr>\n",
       "      <th>1254</th>\n",
       "      <td>R3A1VQ3SQDXEJ3</td>\n",
       "      <td>5.0</td>\n",
       "      <td>20.0</td>\n",
       "      <td>20.0</td>\n",
       "      <td>N</td>\n",
       "      <td>Y</td>\n",
       "      <td>1.0</td>\n",
       "    </tr>\n",
       "    <tr>\n",
       "      <th>1637</th>\n",
       "      <td>R34X0ZGVB3YGYO</td>\n",
       "      <td>5.0</td>\n",
       "      <td>47.0</td>\n",
       "      <td>47.0</td>\n",
       "      <td>N</td>\n",
       "      <td>Y</td>\n",
       "      <td>1.0</td>\n",
       "    </tr>\n",
       "    <tr>\n",
       "      <th>2853</th>\n",
       "      <td>R1E5UU8JBUSHU2</td>\n",
       "      <td>5.0</td>\n",
       "      <td>29.0</td>\n",
       "      <td>29.0</td>\n",
       "      <td>N</td>\n",
       "      <td>Y</td>\n",
       "      <td>1.0</td>\n",
       "    </tr>\n",
       "    <tr>\n",
       "      <th>3454</th>\n",
       "      <td>R32GLCISSDQH58</td>\n",
       "      <td>5.0</td>\n",
       "      <td>21.0</td>\n",
       "      <td>21.0</td>\n",
       "      <td>N</td>\n",
       "      <td>Y</td>\n",
       "      <td>1.0</td>\n",
       "    </tr>\n",
       "    <tr>\n",
       "      <th>3488</th>\n",
       "      <td>R1CTH7GVLL38AY</td>\n",
       "      <td>1.0</td>\n",
       "      <td>32.0</td>\n",
       "      <td>32.0</td>\n",
       "      <td>N</td>\n",
       "      <td>Y</td>\n",
       "      <td>1.0</td>\n",
       "    </tr>\n",
       "    <tr>\n",
       "      <th>3932</th>\n",
       "      <td>R2TQL1HTEI4EZU</td>\n",
       "      <td>3.0</td>\n",
       "      <td>22.0</td>\n",
       "      <td>22.0</td>\n",
       "      <td>N</td>\n",
       "      <td>N</td>\n",
       "      <td>1.0</td>\n",
       "    </tr>\n",
       "    <tr>\n",
       "      <th>4674</th>\n",
       "      <td>R33PC7N3PUVAQH</td>\n",
       "      <td>5.0</td>\n",
       "      <td>66.0</td>\n",
       "      <td>66.0</td>\n",
       "      <td>N</td>\n",
       "      <td>Y</td>\n",
       "      <td>1.0</td>\n",
       "    </tr>\n",
       "    <tr>\n",
       "      <th>6985</th>\n",
       "      <td>R3SGZ8UX8DLE7W</td>\n",
       "      <td>5.0</td>\n",
       "      <td>27.0</td>\n",
       "      <td>27.0</td>\n",
       "      <td>N</td>\n",
       "      <td>Y</td>\n",
       "      <td>1.0</td>\n",
       "    </tr>\n",
       "    <tr>\n",
       "      <th>7534</th>\n",
       "      <td>R3RPIQWWOFGIC4</td>\n",
       "      <td>5.0</td>\n",
       "      <td>35.0</td>\n",
       "      <td>35.0</td>\n",
       "      <td>N</td>\n",
       "      <td>N</td>\n",
       "      <td>1.0</td>\n",
       "    </tr>\n",
       "  </tbody>\n",
       "</table>\n",
       "</div>"
      ],
      "text/plain": [
       "           review_id  star_rating  helpful_votes  total_votes vine  \\\n",
       "161    RX9WC9FTIR1XR          5.0           25.0         25.0    N   \n",
       "1254  R3A1VQ3SQDXEJ3          5.0           20.0         20.0    N   \n",
       "1637  R34X0ZGVB3YGYO          5.0           47.0         47.0    N   \n",
       "2853  R1E5UU8JBUSHU2          5.0           29.0         29.0    N   \n",
       "3454  R32GLCISSDQH58          5.0           21.0         21.0    N   \n",
       "3488  R1CTH7GVLL38AY          1.0           32.0         32.0    N   \n",
       "3932  R2TQL1HTEI4EZU          3.0           22.0         22.0    N   \n",
       "4674  R33PC7N3PUVAQH          5.0           66.0         66.0    N   \n",
       "6985  R3SGZ8UX8DLE7W          5.0           27.0         27.0    N   \n",
       "7534  R3RPIQWWOFGIC4          5.0           35.0         35.0    N   \n",
       "\n",
       "     verified_purchase  Percent_Helpful_Votes  \n",
       "161                  Y                    1.0  \n",
       "1254                 Y                    1.0  \n",
       "1637                 Y                    1.0  \n",
       "2853                 Y                    1.0  \n",
       "3454                 Y                    1.0  \n",
       "3488                 Y                    1.0  \n",
       "3932                 N                    1.0  \n",
       "4674                 Y                    1.0  \n",
       "6985                 Y                    1.0  \n",
       "7534                 N                    1.0  "
      ]
     },
     "execution_count": 58,
     "metadata": {},
     "output_type": "execute_result"
    }
   ],
   "source": [
    "helpful_votes_df.head(10)"
   ]
  },
  {
   "cell_type": "code",
   "execution_count": 43,
   "id": "f0207e92",
   "metadata": {},
   "outputs": [],
   "source": [
    "paid_vine_review = helpful_votes_df[(helpful_votes_df[\"vine\"] =='Y')]"
   ]
  },
  {
   "cell_type": "code",
   "execution_count": 38,
   "id": "e9e9cdcb",
   "metadata": {},
   "outputs": [],
   "source": [
    "unpaid_vine_review = helpful_votes_df[(helpful_votes_df[\"vine\"] =='N')]"
   ]
  },
  {
   "cell_type": "code",
   "execution_count": 60,
   "id": "138081ea",
   "metadata": {},
   "outputs": [
    {
     "data": {
      "text/plain": [
       "14"
      ]
     },
     "execution_count": 60,
     "metadata": {},
     "output_type": "execute_result"
    }
   ],
   "source": [
    "len(paid_vine_review)"
   ]
  },
  {
   "cell_type": "code",
   "execution_count": 40,
   "id": "47150681",
   "metadata": {},
   "outputs": [
    {
     "data": {
      "text/plain": [
       "5426"
      ]
     },
     "execution_count": 40,
     "metadata": {},
     "output_type": "execute_result"
    }
   ],
   "source": [
    "len(unpaid_vine_review)"
   ]
  },
  {
   "cell_type": "code",
   "execution_count": 44,
   "id": "05354a78",
   "metadata": {},
   "outputs": [
    {
     "data": {
      "text/plain": [
       "4"
      ]
     },
     "execution_count": 44,
     "metadata": {},
     "output_type": "execute_result"
    }
   ],
   "source": [
    "paid_5_star = paid_vine_review[(paid_vine_review[\"star_rating\"] == 5.0)]\n",
    "len(paid_5_star)"
   ]
  },
  {
   "cell_type": "code",
   "execution_count": 45,
   "id": "215e5423",
   "metadata": {},
   "outputs": [
    {
     "data": {
      "text/plain": [
       "3737"
      ]
     },
     "execution_count": 45,
     "metadata": {},
     "output_type": "execute_result"
    }
   ],
   "source": [
    "unpaid_5_star = unpaid_vine_review[(unpaid_vine_review[\"star_rating\"] == 5.0)]\n",
    "len(unpaid_5_star)"
   ]
  },
  {
   "cell_type": "code",
   "execution_count": 55,
   "id": "9767bb89",
   "metadata": {},
   "outputs": [
    {
     "name": "stdout",
     "output_type": "stream",
     "text": [
      "28.57142857142857\n"
     ]
    }
   ],
   "source": [
    "paid_percentage = (len(paid_5_star[\"vine\"])/len(paid_vine_review[\"vine\"]))*100\n",
    "print(paid_percentage)"
   ]
  },
  {
   "cell_type": "code",
   "execution_count": 56,
   "id": "b55d24e3",
   "metadata": {},
   "outputs": [
    {
     "name": "stdout",
     "output_type": "stream",
     "text": [
      "68.87209730925176\n"
     ]
    }
   ],
   "source": [
    "unpaid_percentage = (len(unpaid_5_star[\"vine\"])/len(unpaid_vine_review[\"vine\"]))*100\n",
    "print(unpaid_percentage)"
   ]
  },
  {
   "cell_type": "code",
   "execution_count": null,
   "id": "75207657",
   "metadata": {},
   "outputs": [],
   "source": []
  }
 ],
 "metadata": {
  "kernelspec": {
   "display_name": "PythonData",
   "language": "python",
   "name": "pythondata"
  },
  "language_info": {
   "codemirror_mode": {
    "name": "ipython",
    "version": 3
   },
   "file_extension": ".py",
   "mimetype": "text/x-python",
   "name": "python",
   "nbconvert_exporter": "python",
   "pygments_lexer": "ipython3",
   "version": "3.7.11"
  }
 },
 "nbformat": 4,
 "nbformat_minor": 5
}
